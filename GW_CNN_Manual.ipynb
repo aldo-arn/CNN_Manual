{
  "nbformat": 4,
  "nbformat_minor": 0,
  "metadata": {
    "accelerator": "GPU",
    "colab": {
      "name": "GW_CNN_Manual.ipynb",
      "provenance": [],
      "collapsed_sections": [
        "LiLCjsDyqjxk",
        "nNpSapDIWVux",
        "d29TuvQA3qFb",
        "RqTpktCK35kc",
        "O62jfiY94SsH",
        "Olmc-QKH_eHg",
        "GGXlsO69WxsC",
        "QDzdfkb8Xywp",
        "XSfDLvnPfY4c",
        "O4_7PoDafnsj",
        "LZvWXA3MfbuI",
        "uqcvrlf4giOV"
      ]
    },
    "kernelspec": {
      "display_name": "Python 3",
      "name": "python3"
    },
    "language_info": {
      "name": "python"
    }
  },
  "cells": [
    {
      "cell_type": "markdown",
      "metadata": {
        "id": "GNpuKtVCxstr"
      },
      "source": [
        "# **Gravitational Wave Classifier Using Convolutional Neural Networks**"
      ]
    },
    {
      "cell_type": "markdown",
      "metadata": {
        "id": "6KdsRhoqdkU7"
      },
      "source": [
        "***Universidad de Guadalajara.***\n",
        "\n",
        "**Aldo A. Álvarez.** *(aldoa.alvarez@alumnos.udg.mx)*\n",
        "\n"
      ]
    },
    {
      "cell_type": "markdown",
      "metadata": {
        "id": "eQNHzbICCNpn"
      },
      "source": [
        "<div>\n",
        "<img src=\"https://news.uchicago.edu/sites/default/files/styles/full_width/public/images/image/20171013/ligo-illustration.jpg?itok=UMHAepJo\" width=\"20000\"/>\n",
        "</div>"
      ]
    },
    {
      "cell_type": "markdown",
      "metadata": {
        "id": "DTuDLWOZx-Ta"
      },
      "source": [
        "In this notebook we will build a Convolutional Neural Network (CNN). The network will be trained with data from Gravitaional Wave (GW) detections from LIGO to make a classifier that can tell wether there is a GW or not in a given image. "
      ]
    },
    {
      "cell_type": "markdown",
      "metadata": {
        "id": "LiLCjsDyqjxk"
      },
      "source": [
        "## **Setup**"
      ]
    },
    {
      "cell_type": "markdown",
      "metadata": {
        "id": "AXx39PaMBA9X"
      },
      "source": [
        "The first step before we start working with the data is to import some Python libraries that will be needed to process the data:"
      ]
    },
    {
      "cell_type": "code",
      "metadata": {
        "id": "L3Ls2lCyz6o9"
      },
      "source": [
        "import numpy as np\n",
        "import os\n",
        "import matplotlib.pyplot as plt\n",
        "import pandas as pd\n",
        "from functools import partial\n",
        "from sklearn import model_selection\n",
        "import seaborn as sns\n",
        "from sklearn.datasets import make_classification\n",
        "from sklearn.linear_model import LogisticRegression\n",
        "from sklearn.model_selection import train_test_split\n",
        "from sklearn.metrics import roc_curve\n",
        "from sklearn.metrics import roc_auc_score\n",
        "from matplotlib import pyplot\n",
        "import sklearn.metrics as metrics"
      ],
      "execution_count": 2,
      "outputs": []
    },
    {
      "cell_type": "code",
      "metadata": {
        "id": "u1dZ-qAeqmQ0"
      },
      "source": [
        "# Python ≥3.5 is required\n",
        "import sys\n",
        "assert sys.version_info >= (3, 5)\n",
        "\n",
        "# Is this notebook running on Colab or Kaggle?\n",
        "IS_COLAB = \"google.colab\" in sys.modules\n",
        "IS_KAGGLE = \"kaggle_secrets\" in sys.modules\n",
        "\n",
        "# Scikit-Learn ≥0.20 is required\n",
        "import sklearn\n",
        "assert sklearn.__version__ >= \"0.20\"\n",
        "\n",
        "# TensorFlow ≥2.0 is required\n",
        "import tensorflow as tf\n",
        "from tensorflow import keras\n",
        "assert tf.__version__ >= \"2.0\"\n",
        "\n",
        "if not tf.config.list_physical_devices('GPU'):\n",
        "    print(\"No GPU was detected. CNNs can be very slow without a GPU.\")\n",
        "    if IS_COLAB:\n",
        "        print(\"Go to Runtime > Change runtime and select a GPU hardware accelerator.\")\n",
        "    if IS_KAGGLE:\n",
        "        print(\"Go to Settings > Accelerator and select GPU.\")\n",
        "\n",
        "# to make this notebook's output stable across runs\n",
        "np.random.seed(42)\n",
        "tf.random.set_seed(42)\n",
        "\n",
        "# To plot pretty figures\n",
        "%matplotlib inline\n",
        "import matplotlib as mpl\n",
        "import matplotlib.pyplot as plt\n",
        "mpl.rc('axes', labelsize=14)\n",
        "mpl.rc('xtick', labelsize=12)\n",
        "mpl.rc('ytick', labelsize=12)"
      ],
      "execution_count": 3,
      "outputs": []
    },
    {
      "cell_type": "markdown",
      "metadata": {
        "id": "VZ_tlzSfxoZV"
      },
      "source": [
        "## **Import Data**"
      ]
    },
    {
      "cell_type": "markdown",
      "metadata": {
        "id": "mVAvkLQ_D5Gn"
      },
      "source": [
        "Now we need to import the dataset with which we will train the CNN later on. This data consists of timeseries of real Noise from LIGO detectors, into which GW templates from Core-Collapse Super Novae Explosion events have been injected. The GW injections are theoretical simulations of Super Novae events, and they were created by Scheideger as described in his [research paper](https://arxiv.org/pdf/1001.1570v2.pdf)."
      ]
    },
    {
      "cell_type": "markdown",
      "metadata": {
        "id": "PPcZ3fyNSQNt"
      },
      "source": [
        "The data that we use here has already been preprocessed. The data from LIGO detectors contains a lot of noise, so usually it is necessary to apply some filters to clean it. Some of those filters include: \n",
        "\n",
        "\n",
        "*   Bandpass filtering,\n",
        "*   Whitening,\n",
        "*   Q-transform.\n",
        "\n",
        "After applying these filters, the timeseries were cut into samll windows, each corresponding to 0.5 seconds of data. For each GW template injected in the timeseries we took three windows showing only noise from the detectors, and three windows showing a section of the GW template + noise."
      ]
    },
    {
      "cell_type": "markdown",
      "metadata": {
        "id": "3MkqokFU-Xs_"
      },
      "source": [
        "<div>\n",
        "<img src=\"https://drive.google.com/uc?id=1bT0ArkEas13LT_7WL8ccYmwILAxp0G3X\" width=\"600\"/>\n",
        "</div>"
      ]
    },
    {
      "cell_type": "markdown",
      "metadata": {
        "id": "vmIDXJmLFr7T"
      },
      "source": [
        "The datasets correspond to a particular distance at which the detection was taken. For each distance, we have 4 subsets of data (Jobs), all with the same general characteristics but including different GW templates."
      ]
    },
    {
      "cell_type": "markdown",
      "metadata": {
        "id": "OBormgW_Hq9p"
      },
      "source": [
        "The datasets come in a json file. We download and call them using pandas:"
      ]
    },
    {
      "cell_type": "code",
      "metadata": {
        "colab": {
          "base_uri": "https://localhost:8080/"
        },
        "id": "lVg919PldOMA",
        "outputId": "19b9db71-ca96-42a4-cc5e-a0b99f9d4465"
      },
      "source": [
        "import random\n",
        "from google_drive_downloader import GoogleDriveDownloader\n",
        "\n",
        "class Constants:\n",
        "    \n",
        "    \n",
        "    SEED = 0\n",
        "    \n",
        "    # Paths to the data files\n",
        "    dfJob2 = '/dfJob2.json' \n",
        "    dfJob3 = '/dfJob3.json'\n",
        "    dfJob4 = '/dfJob4.json'\n",
        "    dfJob5 = '/dfJob5.json'\n",
        "\n",
        "constants = Constants\n",
        "random.seed(constants.SEED)\n",
        "np.random.seed(constants.SEED)\n",
        "\n",
        "!wget -O /dfJob2.json https://www.dropbox.com/s/i7c1oxr9fo0py8a/DataJob2_Factor31.62.json?dl=0\n",
        "!wget -O /dfJob3.json https://www.dropbox.com/s/9fgfigfz9np6k6y/DataJob3_Factor31.62.json?dl=0\n",
        "!wget -O /dfJob4.json https://www.dropbox.com/s/8a1wpwfadfhecbt/DataJob4_Factor31.62.json?dl=0\n",
        "!wget -O /dfJob5.json https://www.dropbox.com/s/h1aiw2ytan9yl9n/DataJob5_Factor31.62.json?dl=0"
      ],
      "execution_count": 9,
      "outputs": [
        {
          "output_type": "stream",
          "name": "stdout",
          "text": [
            "--2022-05-09 19:52:22--  https://www.dropbox.com/s/i7c1oxr9fo0py8a/DataJob2_Factor31.62.json?dl=0\n",
            "Resolving www.dropbox.com (www.dropbox.com)... 162.125.3.18, 2620:100:601b:18::a27d:812\n",
            "Connecting to www.dropbox.com (www.dropbox.com)|162.125.3.18|:443... connected.\n",
            "HTTP request sent, awaiting response... 301 Moved Permanently\n",
            "Location: /s/raw/i7c1oxr9fo0py8a/DataJob2_Factor31.62.json [following]\n",
            "--2022-05-09 19:52:22--  https://www.dropbox.com/s/raw/i7c1oxr9fo0py8a/DataJob2_Factor31.62.json\n",
            "Reusing existing connection to www.dropbox.com:443.\n",
            "HTTP request sent, awaiting response... 302 Found\n",
            "Location: https://uc53bfcc87439d75d53b73fc1c85.dl.dropboxusercontent.com/cd/0/inline/Bk9nPm1Men85jPU6Gh8WFEBj3B2wT_BOEWXR-g-zbEtCTwguoD-UVGtuebYrGuxFEoujyRlpw0Y4HJPryNayfs-Ye_Qmqz_Pr1FXpnqTQANNQhUT9CEdM6jsLFmbhEJnRduD0zAsfEOAk3EDarmK3qR6Q0CPimKMWnflIDqX148eyg/file# [following]\n",
            "--2022-05-09 19:52:22--  https://uc53bfcc87439d75d53b73fc1c85.dl.dropboxusercontent.com/cd/0/inline/Bk9nPm1Men85jPU6Gh8WFEBj3B2wT_BOEWXR-g-zbEtCTwguoD-UVGtuebYrGuxFEoujyRlpw0Y4HJPryNayfs-Ye_Qmqz_Pr1FXpnqTQANNQhUT9CEdM6jsLFmbhEJnRduD0zAsfEOAk3EDarmK3qR6Q0CPimKMWnflIDqX148eyg/file\n",
            "Resolving uc53bfcc87439d75d53b73fc1c85.dl.dropboxusercontent.com (uc53bfcc87439d75d53b73fc1c85.dl.dropboxusercontent.com)... 162.125.3.15, 2620:100:601b:15::a27d:80f\n",
            "Connecting to uc53bfcc87439d75d53b73fc1c85.dl.dropboxusercontent.com (uc53bfcc87439d75d53b73fc1c85.dl.dropboxusercontent.com)|162.125.3.15|:443... connected.\n",
            "HTTP request sent, awaiting response... 200 OK\n",
            "Length: 21970069 (21M) [text/plain]\n",
            "Saving to: ‘/dfJob2.json’\n",
            "\n",
            "/dfJob2.json        100%[===================>]  20.95M  77.8MB/s    in 0.3s    \n",
            "\n",
            "2022-05-09 19:52:23 (77.8 MB/s) - ‘/dfJob2.json’ saved [21970069/21970069]\n",
            "\n",
            "--2022-05-09 19:52:23--  https://www.dropbox.com/s/9fgfigfz9np6k6y/DataJob3_Factor31.62.json?dl=0\n",
            "Resolving www.dropbox.com (www.dropbox.com)... 162.125.3.18, 2620:100:601b:18::a27d:812\n",
            "Connecting to www.dropbox.com (www.dropbox.com)|162.125.3.18|:443... connected.\n",
            "HTTP request sent, awaiting response... 301 Moved Permanently\n",
            "Location: /s/raw/9fgfigfz9np6k6y/DataJob3_Factor31.62.json [following]\n",
            "--2022-05-09 19:52:24--  https://www.dropbox.com/s/raw/9fgfigfz9np6k6y/DataJob3_Factor31.62.json\n",
            "Reusing existing connection to www.dropbox.com:443.\n",
            "HTTP request sent, awaiting response... 302 Found\n",
            "Location: https://uc3a47abbf54075abd69b86ff8a4.dl.dropboxusercontent.com/cd/0/inline/Bk_RQJtafvsGXih9BtqnUdEQIOcwjFcTr6TDiPSqFMpsLrjg3Uqs4FtcixLkDWwgoXBMHHNEF7z24FvDHEYaW_pmB59nzmYbOxmScbVdSYJGPS_tE3Wa7RcXZDj-Gh_tqJbSgc6WszCaA88hH50FoKeTXW1oA_2ty0LB5-1_Z6_uzA/file# [following]\n",
            "--2022-05-09 19:52:24--  https://uc3a47abbf54075abd69b86ff8a4.dl.dropboxusercontent.com/cd/0/inline/Bk_RQJtafvsGXih9BtqnUdEQIOcwjFcTr6TDiPSqFMpsLrjg3Uqs4FtcixLkDWwgoXBMHHNEF7z24FvDHEYaW_pmB59nzmYbOxmScbVdSYJGPS_tE3Wa7RcXZDj-Gh_tqJbSgc6WszCaA88hH50FoKeTXW1oA_2ty0LB5-1_Z6_uzA/file\n",
            "Resolving uc3a47abbf54075abd69b86ff8a4.dl.dropboxusercontent.com (uc3a47abbf54075abd69b86ff8a4.dl.dropboxusercontent.com)... 162.125.80.15, 2620:100:6019:15::a27d:40f\n",
            "Connecting to uc3a47abbf54075abd69b86ff8a4.dl.dropboxusercontent.com (uc3a47abbf54075abd69b86ff8a4.dl.dropboxusercontent.com)|162.125.80.15|:443... connected.\n",
            "HTTP request sent, awaiting response... 200 OK\n",
            "Length: 21947284 (21M) [text/plain]\n",
            "Saving to: ‘/dfJob3.json’\n",
            "\n",
            "/dfJob3.json        100%[===================>]  20.93M  8.43MB/s    in 2.5s    \n",
            "\n",
            "2022-05-09 19:52:27 (8.43 MB/s) - ‘/dfJob3.json’ saved [21947284/21947284]\n",
            "\n",
            "--2022-05-09 19:52:27--  https://www.dropbox.com/s/8a1wpwfadfhecbt/DataJob4_Factor31.62.json?dl=0\n",
            "Resolving www.dropbox.com (www.dropbox.com)... 162.125.3.18, 2620:100:601d:18::a27d:512\n",
            "Connecting to www.dropbox.com (www.dropbox.com)|162.125.3.18|:443... connected.\n",
            "HTTP request sent, awaiting response... 301 Moved Permanently\n",
            "Location: /s/raw/8a1wpwfadfhecbt/DataJob4_Factor31.62.json [following]\n",
            "--2022-05-09 19:52:28--  https://www.dropbox.com/s/raw/8a1wpwfadfhecbt/DataJob4_Factor31.62.json\n",
            "Reusing existing connection to www.dropbox.com:443.\n",
            "HTTP request sent, awaiting response... 302 Found\n",
            "Location: https://uc99d19a97f4b85044e8f2dc0634.dl.dropboxusercontent.com/cd/0/inline/Bk-kcBIbUXFiHDtBxW_TZEgB6Ut5wZzY_XmY_GywQvk-V1_Pg3BD1YbSkBRP0lqp_eGm4RMOBC_AS6Ok3FSXXOVYAa1Yd2ZFyTQTzj5uMJwdIruojsUx-l-8DjT9V41pxUDA7lJrtt2_PttQD9_4Jz_p1znKQl9hc3HEh0F6nV8d2g/file# [following]\n",
            "--2022-05-09 19:52:28--  https://uc99d19a97f4b85044e8f2dc0634.dl.dropboxusercontent.com/cd/0/inline/Bk-kcBIbUXFiHDtBxW_TZEgB6Ut5wZzY_XmY_GywQvk-V1_Pg3BD1YbSkBRP0lqp_eGm4RMOBC_AS6Ok3FSXXOVYAa1Yd2ZFyTQTzj5uMJwdIruojsUx-l-8DjT9V41pxUDA7lJrtt2_PttQD9_4Jz_p1znKQl9hc3HEh0F6nV8d2g/file\n",
            "Resolving uc99d19a97f4b85044e8f2dc0634.dl.dropboxusercontent.com (uc99d19a97f4b85044e8f2dc0634.dl.dropboxusercontent.com)... 162.125.4.15, 2620:100:6018:15::a27d:30f\n",
            "Connecting to uc99d19a97f4b85044e8f2dc0634.dl.dropboxusercontent.com (uc99d19a97f4b85044e8f2dc0634.dl.dropboxusercontent.com)|162.125.4.15|:443... connected.\n",
            "HTTP request sent, awaiting response... 200 OK\n",
            "Length: 21945487 (21M) [text/plain]\n",
            "Saving to: ‘/dfJob4.json’\n",
            "\n",
            "/dfJob4.json        100%[===================>]  20.93M  36.5MB/s    in 0.6s    \n",
            "\n",
            "2022-05-09 19:52:29 (36.5 MB/s) - ‘/dfJob4.json’ saved [21945487/21945487]\n",
            "\n",
            "--2022-05-09 19:52:29--  https://www.dropbox.com/s/h1aiw2ytan9yl9n/DataJob5_Factor31.62.json?dl=0\n",
            "Resolving www.dropbox.com (www.dropbox.com)... 162.125.3.18, 2620:100:601d:18::a27d:512\n",
            "Connecting to www.dropbox.com (www.dropbox.com)|162.125.3.18|:443... connected.\n",
            "HTTP request sent, awaiting response... 301 Moved Permanently\n",
            "Location: /s/raw/h1aiw2ytan9yl9n/DataJob5_Factor31.62.json [following]\n",
            "--2022-05-09 19:52:29--  https://www.dropbox.com/s/raw/h1aiw2ytan9yl9n/DataJob5_Factor31.62.json\n",
            "Reusing existing connection to www.dropbox.com:443.\n",
            "HTTP request sent, awaiting response... 302 Found\n",
            "Location: https://uc4e10c4c844598a7c53eb35f24a.dl.dropboxusercontent.com/cd/0/inline/Bk8ZoGgBKtNlKGrdc3MLGKm0Vez6oQYPlFo4-6JktPEm5JSPKHQ9JmffQvQP0BHNqrof-uoQL-YC_b_APTN4bOQfpiuy6JhJJaJygH3la8-4W5D7yjvfKX_aBg4irMQ_3wbKHN6CnlJhzMoeqBEPofx4kfx9mzuViRF9rnp90pAznw/file# [following]\n",
            "--2022-05-09 19:52:30--  https://uc4e10c4c844598a7c53eb35f24a.dl.dropboxusercontent.com/cd/0/inline/Bk8ZoGgBKtNlKGrdc3MLGKm0Vez6oQYPlFo4-6JktPEm5JSPKHQ9JmffQvQP0BHNqrof-uoQL-YC_b_APTN4bOQfpiuy6JhJJaJygH3la8-4W5D7yjvfKX_aBg4irMQ_3wbKHN6CnlJhzMoeqBEPofx4kfx9mzuViRF9rnp90pAznw/file\n",
            "Resolving uc4e10c4c844598a7c53eb35f24a.dl.dropboxusercontent.com (uc4e10c4c844598a7c53eb35f24a.dl.dropboxusercontent.com)... 162.125.4.15, 2620:100:6019:15::a27d:40f\n",
            "Connecting to uc4e10c4c844598a7c53eb35f24a.dl.dropboxusercontent.com (uc4e10c4c844598a7c53eb35f24a.dl.dropboxusercontent.com)|162.125.4.15|:443... connected.\n",
            "HTTP request sent, awaiting response... 200 OK\n",
            "Length: 21963794 (21M) [text/plain]\n",
            "Saving to: ‘/dfJob5.json’\n",
            "\n",
            "/dfJob5.json        100%[===================>]  20.95M  25.8MB/s    in 0.8s    \n",
            "\n",
            "2022-05-09 19:52:31 (25.8 MB/s) - ‘/dfJob5.json’ saved [21963794/21963794]\n",
            "\n"
          ]
        }
      ]
    },
    {
      "cell_type": "code",
      "metadata": {
        "id": "0PPyW-AOeyOZ"
      },
      "source": [
        "dfJob2 = pd.read_json(constants.dfJob2)\n",
        "dfJob3 = pd.read_json(constants.dfJob3)\n",
        "dfJob4 = pd.read_json(constants.dfJob4)\n",
        "dfJob5 = pd.read_json(constants.dfJob5)"
      ],
      "execution_count": 10,
      "outputs": []
    },
    {
      "cell_type": "markdown",
      "metadata": {
        "id": "avXDOU9TIIPm"
      },
      "source": [
        "These datasets include: \n",
        "* the pixels corresponding to the detection from H1 and L1,\n",
        "* the time at which the window was extracted from the time series,\n",
        "* an injection indicator with 0 if it's just Noise or 1 if it's GW+Noise,\n",
        "* the GW template that the window includes (if any)."
      ]
    },
    {
      "cell_type": "markdown",
      "metadata": {
        "id": "PLuF6vdeYJk5"
      },
      "source": [
        "In this case, the data corresponds to GW injections at a distance of **0.316 Kpc**."
      ]
    },
    {
      "cell_type": "code",
      "source": [
        "factor = 31.62"
      ],
      "metadata": {
        "id": "2XoqpdkzYnEj"
      },
      "execution_count": 70,
      "outputs": []
    },
    {
      "cell_type": "markdown",
      "metadata": {
        "id": "kyl4387SgV1Y"
      },
      "source": [
        "## **Change Pixel lists to np arrays**"
      ]
    },
    {
      "cell_type": "markdown",
      "metadata": {
        "id": "IurOgptIS2Xa"
      },
      "source": [
        "The data corresponding to the detection images inside the json file comes in a 1D pixel array. So before we can manipulate the pixels to rebuild the images, we need to convert them to numpy arrays.  "
      ]
    },
    {
      "cell_type": "code",
      "metadata": {
        "id": "cHJp26FmgcQ1"
      },
      "source": [
        "dfJob2['Pixels H1'] = dfJob2['Pixels H1'].apply(lambda x: np.array(x))\n",
        "dfJob2['Pixels L1'] = dfJob2['Pixels L1'].apply(lambda x: np.array(x))\n",
        "\n",
        "dfJob3['Pixels H1'] = dfJob3['Pixels H1'].apply(lambda x: np.array(x))\n",
        "dfJob3['Pixels L1'] = dfJob3['Pixels L1'].apply(lambda x: np.array(x))\n",
        "\n",
        "dfJob4['Pixels H1'] = dfJob4['Pixels H1'].apply(lambda x: np.array(x))\n",
        "dfJob4['Pixels L1'] = dfJob4['Pixels L1'].apply(lambda x: np.array(x))\n",
        "\n",
        "dfJob5['Pixels H1'] = dfJob5['Pixels H1'].apply(lambda x: np.array(x))\n",
        "dfJob5['Pixels L1'] = dfJob5['Pixels L1'].apply(lambda x: np.array(x))"
      ],
      "execution_count": 11,
      "outputs": []
    },
    {
      "cell_type": "markdown",
      "metadata": {
        "id": "YfMdRSKgJm-6"
      },
      "source": [
        "We can confirm that they were successfully converted:"
      ]
    },
    {
      "cell_type": "code",
      "metadata": {
        "colab": {
          "base_uri": "https://localhost:8080/"
        },
        "id": "qHhMwX6MqiKq",
        "outputId": "39b997ff-facf-42c3-da13-2e0c45fd3ed7"
      },
      "source": [
        "type(dfJob2['Pixels L1'].iloc[0])"
      ],
      "execution_count": 12,
      "outputs": [
        {
          "output_type": "execute_result",
          "data": {
            "text/plain": [
              "numpy.ndarray"
            ]
          },
          "metadata": {},
          "execution_count": 12
        }
      ]
    },
    {
      "cell_type": "markdown",
      "metadata": {
        "id": "A2_6YzqkJuWy"
      },
      "source": [
        "And now we can finally visualize the dataset with which we will be working:"
      ]
    },
    {
      "cell_type": "code",
      "metadata": {
        "colab": {
          "base_uri": "https://localhost:8080/",
          "height": 0
        },
        "id": "xZdNsKsisV18",
        "outputId": "fb3a2634-889d-4e1f-c2f8-04ca60de03a8"
      },
      "source": [
        "dfJob2.head()"
      ],
      "execution_count": 13,
      "outputs": [
        {
          "output_type": "execute_result",
          "data": {
            "text/plain": [
              "                                           Pixels H1  \\\n",
              "0  [[0.6671221011, 0.8246112875, 1.0935741992, 1....   \n",
              "1  [[0.1273723069, 0.027398567300000003, 0.000364...   \n",
              "2  [[0.9715096099, 1.0902210682, 1.25730067109999...   \n",
              "3  [[1.1038850136, 1.3463503, 1.7232404994000001,...   \n",
              "4  [[2.129061328, 2.4446815326999998, 2.632915256...   \n",
              "\n",
              "                                           Pixels L1         Twin  \\\n",
              "0  [[0.6268522979000001, 0.2885270893, 0.12907088...   869.170290   \n",
              "1  [[1.5275692769, 1.6736162632, 1.5662285443, 1....    10.491783   \n",
              "2  [[2.8905482979, 2.5858256658, 2.0183065708, 1....    10.491783   \n",
              "3  [[0.7286555221000001, 0.49838899600000003, 0.3...   890.915274   \n",
              "4  [[7.090021403, 4.6660909789, 2.6294095984, 1.2...  1149.403197   \n",
              "\n",
              "   GW injection Template  Theta  Phi  Distance  \n",
              "0             1     sch3    NaN  NaN  0.031626  \n",
              "1             0      NaN    NaN  NaN  0.031626  \n",
              "2             1     sch2    NaN  NaN  0.031626  \n",
              "3             0      NaN    NaN  NaN  0.031626  \n",
              "4             0      NaN    NaN  NaN  0.031626  "
            ],
            "text/html": [
              "\n",
              "  <div id=\"df-c87cd80c-f991-4a14-9550-dd670d192836\">\n",
              "    <div class=\"colab-df-container\">\n",
              "      <div>\n",
              "<style scoped>\n",
              "    .dataframe tbody tr th:only-of-type {\n",
              "        vertical-align: middle;\n",
              "    }\n",
              "\n",
              "    .dataframe tbody tr th {\n",
              "        vertical-align: top;\n",
              "    }\n",
              "\n",
              "    .dataframe thead th {\n",
              "        text-align: right;\n",
              "    }\n",
              "</style>\n",
              "<table border=\"1\" class=\"dataframe\">\n",
              "  <thead>\n",
              "    <tr style=\"text-align: right;\">\n",
              "      <th></th>\n",
              "      <th>Pixels H1</th>\n",
              "      <th>Pixels L1</th>\n",
              "      <th>Twin</th>\n",
              "      <th>GW injection</th>\n",
              "      <th>Template</th>\n",
              "      <th>Theta</th>\n",
              "      <th>Phi</th>\n",
              "      <th>Distance</th>\n",
              "    </tr>\n",
              "  </thead>\n",
              "  <tbody>\n",
              "    <tr>\n",
              "      <th>0</th>\n",
              "      <td>[[0.6671221011, 0.8246112875, 1.0935741992, 1....</td>\n",
              "      <td>[[0.6268522979000001, 0.2885270893, 0.12907088...</td>\n",
              "      <td>869.170290</td>\n",
              "      <td>1</td>\n",
              "      <td>sch3</td>\n",
              "      <td>NaN</td>\n",
              "      <td>NaN</td>\n",
              "      <td>0.031626</td>\n",
              "    </tr>\n",
              "    <tr>\n",
              "      <th>1</th>\n",
              "      <td>[[0.1273723069, 0.027398567300000003, 0.000364...</td>\n",
              "      <td>[[1.5275692769, 1.6736162632, 1.5662285443, 1....</td>\n",
              "      <td>10.491783</td>\n",
              "      <td>0</td>\n",
              "      <td>NaN</td>\n",
              "      <td>NaN</td>\n",
              "      <td>NaN</td>\n",
              "      <td>0.031626</td>\n",
              "    </tr>\n",
              "    <tr>\n",
              "      <th>2</th>\n",
              "      <td>[[0.9715096099, 1.0902210682, 1.25730067109999...</td>\n",
              "      <td>[[2.8905482979, 2.5858256658, 2.0183065708, 1....</td>\n",
              "      <td>10.491783</td>\n",
              "      <td>1</td>\n",
              "      <td>sch2</td>\n",
              "      <td>NaN</td>\n",
              "      <td>NaN</td>\n",
              "      <td>0.031626</td>\n",
              "    </tr>\n",
              "    <tr>\n",
              "      <th>3</th>\n",
              "      <td>[[1.1038850136, 1.3463503, 1.7232404994000001,...</td>\n",
              "      <td>[[0.7286555221000001, 0.49838899600000003, 0.3...</td>\n",
              "      <td>890.915274</td>\n",
              "      <td>0</td>\n",
              "      <td>NaN</td>\n",
              "      <td>NaN</td>\n",
              "      <td>NaN</td>\n",
              "      <td>0.031626</td>\n",
              "    </tr>\n",
              "    <tr>\n",
              "      <th>4</th>\n",
              "      <td>[[2.129061328, 2.4446815326999998, 2.632915256...</td>\n",
              "      <td>[[7.090021403, 4.6660909789, 2.6294095984, 1.2...</td>\n",
              "      <td>1149.403197</td>\n",
              "      <td>0</td>\n",
              "      <td>NaN</td>\n",
              "      <td>NaN</td>\n",
              "      <td>NaN</td>\n",
              "      <td>0.031626</td>\n",
              "    </tr>\n",
              "  </tbody>\n",
              "</table>\n",
              "</div>\n",
              "      <button class=\"colab-df-convert\" onclick=\"convertToInteractive('df-c87cd80c-f991-4a14-9550-dd670d192836')\"\n",
              "              title=\"Convert this dataframe to an interactive table.\"\n",
              "              style=\"display:none;\">\n",
              "        \n",
              "  <svg xmlns=\"http://www.w3.org/2000/svg\" height=\"24px\"viewBox=\"0 0 24 24\"\n",
              "       width=\"24px\">\n",
              "    <path d=\"M0 0h24v24H0V0z\" fill=\"none\"/>\n",
              "    <path d=\"M18.56 5.44l.94 2.06.94-2.06 2.06-.94-2.06-.94-.94-2.06-.94 2.06-2.06.94zm-11 1L8.5 8.5l.94-2.06 2.06-.94-2.06-.94L8.5 2.5l-.94 2.06-2.06.94zm10 10l.94 2.06.94-2.06 2.06-.94-2.06-.94-.94-2.06-.94 2.06-2.06.94z\"/><path d=\"M17.41 7.96l-1.37-1.37c-.4-.4-.92-.59-1.43-.59-.52 0-1.04.2-1.43.59L10.3 9.45l-7.72 7.72c-.78.78-.78 2.05 0 2.83L4 21.41c.39.39.9.59 1.41.59.51 0 1.02-.2 1.41-.59l7.78-7.78 2.81-2.81c.8-.78.8-2.07 0-2.86zM5.41 20L4 18.59l7.72-7.72 1.47 1.35L5.41 20z\"/>\n",
              "  </svg>\n",
              "      </button>\n",
              "      \n",
              "  <style>\n",
              "    .colab-df-container {\n",
              "      display:flex;\n",
              "      flex-wrap:wrap;\n",
              "      gap: 12px;\n",
              "    }\n",
              "\n",
              "    .colab-df-convert {\n",
              "      background-color: #E8F0FE;\n",
              "      border: none;\n",
              "      border-radius: 50%;\n",
              "      cursor: pointer;\n",
              "      display: none;\n",
              "      fill: #1967D2;\n",
              "      height: 32px;\n",
              "      padding: 0 0 0 0;\n",
              "      width: 32px;\n",
              "    }\n",
              "\n",
              "    .colab-df-convert:hover {\n",
              "      background-color: #E2EBFA;\n",
              "      box-shadow: 0px 1px 2px rgba(60, 64, 67, 0.3), 0px 1px 3px 1px rgba(60, 64, 67, 0.15);\n",
              "      fill: #174EA6;\n",
              "    }\n",
              "\n",
              "    [theme=dark] .colab-df-convert {\n",
              "      background-color: #3B4455;\n",
              "      fill: #D2E3FC;\n",
              "    }\n",
              "\n",
              "    [theme=dark] .colab-df-convert:hover {\n",
              "      background-color: #434B5C;\n",
              "      box-shadow: 0px 1px 3px 1px rgba(0, 0, 0, 0.15);\n",
              "      filter: drop-shadow(0px 1px 2px rgba(0, 0, 0, 0.3));\n",
              "      fill: #FFFFFF;\n",
              "    }\n",
              "  </style>\n",
              "\n",
              "      <script>\n",
              "        const buttonEl =\n",
              "          document.querySelector('#df-c87cd80c-f991-4a14-9550-dd670d192836 button.colab-df-convert');\n",
              "        buttonEl.style.display =\n",
              "          google.colab.kernel.accessAllowed ? 'block' : 'none';\n",
              "\n",
              "        async function convertToInteractive(key) {\n",
              "          const element = document.querySelector('#df-c87cd80c-f991-4a14-9550-dd670d192836');\n",
              "          const dataTable =\n",
              "            await google.colab.kernel.invokeFunction('convertToInteractive',\n",
              "                                                     [key], {});\n",
              "          if (!dataTable) return;\n",
              "\n",
              "          const docLinkHtml = 'Like what you see? Visit the ' +\n",
              "            '<a target=\"_blank\" href=https://colab.research.google.com/notebooks/data_table.ipynb>data table notebook</a>'\n",
              "            + ' to learn more about interactive tables.';\n",
              "          element.innerHTML = '';\n",
              "          dataTable['output_type'] = 'display_data';\n",
              "          await google.colab.output.renderOutput(dataTable, element);\n",
              "          const docLink = document.createElement('div');\n",
              "          docLink.innerHTML = docLinkHtml;\n",
              "          element.appendChild(docLink);\n",
              "        }\n",
              "      </script>\n",
              "    </div>\n",
              "  </div>\n",
              "  "
            ]
          },
          "metadata": {},
          "execution_count": 13
        }
      ]
    },
    {
      "cell_type": "markdown",
      "metadata": {
        "id": "FnrewVsDqSEr"
      },
      "source": [
        "## **Train-Test Split**"
      ]
    },
    {
      "cell_type": "markdown",
      "metadata": {
        "id": "tgv6JyiaK4qN"
      },
      "source": [
        "We will use 75\\% of the data for training and 25\\% for testing. This means that, from the for Jobs of data that we have, we need to choose three for training and one for testing. All Jobs contain similar data, so they can be chose arbitrarily."
      ]
    },
    {
      "cell_type": "code",
      "metadata": {
        "id": "pnDsm01hDOxP"
      },
      "source": [
        "###\n",
        "c = pd.concat([dfJob2,dfJob3,dfJob4])\n",
        "df_train = c.sample(frac=1).reset_index(drop=True)\n",
        "###"
      ],
      "execution_count": 14,
      "outputs": []
    },
    {
      "cell_type": "code",
      "metadata": {
        "id": "NZEQatrb0oHo"
      },
      "source": [
        "###\n",
        "df_test = dfJob5\n",
        "df_name = 'Job5'\n",
        "###"
      ],
      "execution_count": 15,
      "outputs": []
    },
    {
      "cell_type": "markdown",
      "metadata": {
        "id": "qEq4D744UWpW"
      },
      "source": [
        "The dataset has some pictures with dimensions 47X48. All images must be 48X48, so we need to filter that data. This is just a small error that occurs during the process of separating the initial timeseries into small time windows."
      ]
    },
    {
      "cell_type": "markdown",
      "metadata": {
        "id": "nNpSapDIWVux"
      },
      "source": [
        "### Drop defective data"
      ]
    },
    {
      "cell_type": "code",
      "metadata": {
        "colab": {
          "base_uri": "https://localhost:8080/"
        },
        "id": "hBZaRaUpSiex",
        "outputId": "53a1fc24-0a39-43a8-d08f-188e845691fb"
      },
      "source": [
        "len(df_train)"
      ],
      "execution_count": 16,
      "outputs": [
        {
          "output_type": "execute_result",
          "data": {
            "text/plain": [
              "1098"
            ]
          },
          "metadata": {},
          "execution_count": 16
        }
      ]
    },
    {
      "cell_type": "code",
      "metadata": {
        "colab": {
          "base_uri": "https://localhost:8080/"
        },
        "id": "8JXC_ssJ0sqF",
        "outputId": "de452f16-95d7-47d3-a5cd-bbf6a1b87706"
      },
      "source": [
        "len(df_test)"
      ],
      "execution_count": 17,
      "outputs": [
        {
          "output_type": "execute_result",
          "data": {
            "text/plain": [
              "366"
            ]
          },
          "metadata": {},
          "execution_count": 17
        }
      ]
    },
    {
      "cell_type": "code",
      "metadata": {
        "id": "urUknkcATmGA"
      },
      "source": [
        "k = []\n",
        "for i in range(len(df_train)):\n",
        "  if df_train['Pixels H1'].iloc[i].shape != (48,48) :\n",
        "    k.append(i)"
      ],
      "execution_count": 18,
      "outputs": []
    },
    {
      "cell_type": "code",
      "metadata": {
        "id": "WIeGmRvs0Y67"
      },
      "source": [
        "q = []\n",
        "for i in range(len(df_test)):\n",
        "  if df_test['Pixels H1'].iloc[i].shape != (48,48) :\n",
        "    q.append(i)"
      ],
      "execution_count": 19,
      "outputs": []
    },
    {
      "cell_type": "markdown",
      "metadata": {
        "id": "r6vr4lsyLkT0"
      },
      "source": [
        "The ammount of images that need to be deleted from the training set is:"
      ]
    },
    {
      "cell_type": "code",
      "metadata": {
        "colab": {
          "base_uri": "https://localhost:8080/"
        },
        "id": "GUPJ_IECTpd8",
        "outputId": "f3107716-4e93-4cd0-8723-4bc3d2d27aa6"
      },
      "source": [
        "len(k) "
      ],
      "execution_count": 20,
      "outputs": [
        {
          "output_type": "execute_result",
          "data": {
            "text/plain": [
              "30"
            ]
          },
          "metadata": {},
          "execution_count": 20
        }
      ]
    },
    {
      "cell_type": "markdown",
      "metadata": {
        "id": "EnH9n31ILv7A"
      },
      "source": [
        "The ammount of images that need to be deleted from the testing set is:"
      ]
    },
    {
      "cell_type": "code",
      "metadata": {
        "colab": {
          "base_uri": "https://localhost:8080/"
        },
        "id": "GCuYKqqt0qdR",
        "outputId": "26f689f4-498e-40f5-d7ee-aeb26db498ed"
      },
      "source": [
        "len(q)"
      ],
      "execution_count": 21,
      "outputs": [
        {
          "output_type": "execute_result",
          "data": {
            "text/plain": [
              "17"
            ]
          },
          "metadata": {},
          "execution_count": 21
        }
      ]
    },
    {
      "cell_type": "markdown",
      "metadata": {
        "id": "0fZ-2LOoLy5J"
      },
      "source": [
        "Now we drop those images from the datasets, otherwise they will cause a dimension error in the CNN:"
      ]
    },
    {
      "cell_type": "code",
      "metadata": {
        "id": "GBseusbiT5XH"
      },
      "source": [
        "df_train = df_train.drop(k)\n",
        "df_test = df_test.drop(q)"
      ],
      "execution_count": 22,
      "outputs": []
    },
    {
      "cell_type": "markdown",
      "metadata": {
        "id": "Wm9VtYZWL-WL"
      },
      "source": [
        "We will see a reduction in our datasets:"
      ]
    },
    {
      "cell_type": "code",
      "metadata": {
        "colab": {
          "base_uri": "https://localhost:8080/"
        },
        "id": "7hMCYhDI0PTw",
        "outputId": "a84756a3-b4ff-4d41-9606-3c9e378b76e8"
      },
      "source": [
        "len(df_train)"
      ],
      "execution_count": 23,
      "outputs": [
        {
          "output_type": "execute_result",
          "data": {
            "text/plain": [
              "1068"
            ]
          },
          "metadata": {},
          "execution_count": 23
        }
      ]
    },
    {
      "cell_type": "code",
      "metadata": {
        "colab": {
          "base_uri": "https://localhost:8080/"
        },
        "id": "puxWYDtwv7br",
        "outputId": "7a133b16-7e55-45bd-c0fd-8772633839e6"
      },
      "source": [
        "len(df_test)"
      ],
      "execution_count": 24,
      "outputs": [
        {
          "output_type": "execute_result",
          "data": {
            "text/plain": [
              "349"
            ]
          },
          "metadata": {},
          "execution_count": 24
        }
      ]
    },
    {
      "cell_type": "markdown",
      "metadata": {
        "id": "1I4kiQHCkZky"
      },
      "source": [
        "## **Reshape arrays**"
      ]
    },
    {
      "cell_type": "markdown",
      "metadata": {
        "id": "FFAv0E_4YC0s"
      },
      "source": [
        "Now we need to reshape the 1D pixel arrays into 48X48 pixel images. We will do this for H1 and L1 separately, generating images with dimension (48,48,1). Also, we will do the same but with H1 and L1 together, and we will have images with shape (48,48,2)."
      ]
    },
    {
      "cell_type": "markdown",
      "metadata": {
        "id": "UDBR8CWcVGzb"
      },
      "source": [
        "### Train H1"
      ]
    },
    {
      "cell_type": "code",
      "metadata": {
        "id": "bsEfIKwm1qjv"
      },
      "source": [
        "trainH1 = df_train['Pixels H1'] "
      ],
      "execution_count": 25,
      "outputs": []
    },
    {
      "cell_type": "code",
      "metadata": {
        "id": "2kTf7WjpRUBf"
      },
      "source": [
        "trainH1_arr = np.empty((0,48,48), dtype=float)"
      ],
      "execution_count": 26,
      "outputs": []
    },
    {
      "cell_type": "code",
      "metadata": {
        "id": "Z-0HJUFJlFod"
      },
      "source": [
        "for i in range(len(trainH1)):\n",
        "  a = trainH1.iloc[i]\n",
        "  trainH1_arr = np.append(trainH1_arr, a.reshape(1,48,48), axis=0)"
      ],
      "execution_count": 27,
      "outputs": []
    },
    {
      "cell_type": "code",
      "metadata": {
        "colab": {
          "base_uri": "https://localhost:8080/"
        },
        "id": "cYlOrYePm39H",
        "outputId": "b79107cf-23a2-44ca-b957-db2df259f1b7"
      },
      "source": [
        "trainH1_arr.shape"
      ],
      "execution_count": 28,
      "outputs": [
        {
          "output_type": "execute_result",
          "data": {
            "text/plain": [
              "(1068, 48, 48)"
            ]
          },
          "metadata": {},
          "execution_count": 28
        }
      ]
    },
    {
      "cell_type": "markdown",
      "metadata": {
        "id": "N4uNk7W-VJj7"
      },
      "source": [
        "### Test H1"
      ]
    },
    {
      "cell_type": "code",
      "metadata": {
        "id": "PUILWtNE2ZxC"
      },
      "source": [
        "testH1 = df_test['Pixels H1'] "
      ],
      "execution_count": 29,
      "outputs": []
    },
    {
      "cell_type": "code",
      "metadata": {
        "id": "eoYzwkrhVLnX"
      },
      "source": [
        "testH1_arr = np.empty((0,48,48), dtype=float)"
      ],
      "execution_count": 30,
      "outputs": []
    },
    {
      "cell_type": "code",
      "metadata": {
        "id": "0mQPnzaBVmMF"
      },
      "source": [
        "for i in range(len(testH1)):\n",
        "  a = testH1.iloc[i]\n",
        "  testH1_arr = np.append(testH1_arr, a.reshape(1,48,48), axis=0)"
      ],
      "execution_count": 31,
      "outputs": []
    },
    {
      "cell_type": "code",
      "metadata": {
        "colab": {
          "base_uri": "https://localhost:8080/"
        },
        "id": "eHFkd2L3VwTM",
        "outputId": "d73b2967-57af-4ad6-f624-72a593d524c1"
      },
      "source": [
        "testH1_arr.shape"
      ],
      "execution_count": 32,
      "outputs": [
        {
          "output_type": "execute_result",
          "data": {
            "text/plain": [
              "(349, 48, 48)"
            ]
          },
          "metadata": {},
          "execution_count": 32
        }
      ]
    },
    {
      "cell_type": "markdown",
      "metadata": {
        "id": "d29TuvQA3qFb"
      },
      "source": [
        "### Train L1"
      ]
    },
    {
      "cell_type": "code",
      "metadata": {
        "id": "Zq5vqvTN3qFc"
      },
      "source": [
        "trainL1 = df_train['Pixels L1'] "
      ],
      "execution_count": 33,
      "outputs": []
    },
    {
      "cell_type": "code",
      "metadata": {
        "id": "Bz8wtymO3qFc"
      },
      "source": [
        "trainL1_arr = np.empty((0,48,48), dtype=float)"
      ],
      "execution_count": 34,
      "outputs": []
    },
    {
      "cell_type": "code",
      "metadata": {
        "id": "Qfon6FMm3qFc"
      },
      "source": [
        "for i in range(len(trainL1)):\n",
        "  a = trainL1.iloc[i]\n",
        "  trainL1_arr = np.append(trainL1_arr, a.reshape(1,48,48), axis=0)"
      ],
      "execution_count": 35,
      "outputs": []
    },
    {
      "cell_type": "code",
      "metadata": {
        "colab": {
          "base_uri": "https://localhost:8080/"
        },
        "id": "GoSSobEg3qFd",
        "outputId": "83d2c747-1929-46e7-d625-234d22b2ea37"
      },
      "source": [
        "trainL1_arr.shape"
      ],
      "execution_count": 36,
      "outputs": [
        {
          "output_type": "execute_result",
          "data": {
            "text/plain": [
              "(1068, 48, 48)"
            ]
          },
          "metadata": {},
          "execution_count": 36
        }
      ]
    },
    {
      "cell_type": "markdown",
      "metadata": {
        "id": "RqTpktCK35kc"
      },
      "source": [
        "### Test L1"
      ]
    },
    {
      "cell_type": "code",
      "metadata": {
        "id": "XJB4_Arv35kd"
      },
      "source": [
        "testL1 = df_test['Pixels L1'] "
      ],
      "execution_count": 37,
      "outputs": []
    },
    {
      "cell_type": "code",
      "metadata": {
        "id": "TtPVgl_135kd"
      },
      "source": [
        "testL1_arr = np.empty((0,48,48), dtype=float)"
      ],
      "execution_count": 38,
      "outputs": []
    },
    {
      "cell_type": "code",
      "metadata": {
        "id": "cioE5THd35ke"
      },
      "source": [
        "for i in range(len(testL1)):\n",
        "  a = testL1.iloc[i]\n",
        "  testL1_arr = np.append(testL1_arr, a.reshape(1,48,48), axis=0)"
      ],
      "execution_count": 39,
      "outputs": []
    },
    {
      "cell_type": "code",
      "metadata": {
        "colab": {
          "base_uri": "https://localhost:8080/"
        },
        "id": "lDmlZ1HS35ke",
        "outputId": "8293a8b4-e59a-41f4-bdc3-ca95b8bd6862"
      },
      "source": [
        "testL1_arr.shape"
      ],
      "execution_count": 40,
      "outputs": [
        {
          "output_type": "execute_result",
          "data": {
            "text/plain": [
              "(349, 48, 48)"
            ]
          },
          "metadata": {},
          "execution_count": 40
        }
      ]
    },
    {
      "cell_type": "markdown",
      "metadata": {
        "id": "O62jfiY94SsH"
      },
      "source": [
        "### Train All"
      ]
    },
    {
      "cell_type": "code",
      "metadata": {
        "id": "bET2VCHZ4W2n"
      },
      "source": [
        "trainAll_arr = np.empty((0,48,48,2), dtype=float)"
      ],
      "execution_count": 41,
      "outputs": []
    },
    {
      "cell_type": "code",
      "metadata": {
        "id": "Bmnp-hYe9jYV"
      },
      "source": [
        "for i in range(len(trainL1_arr)):\n",
        "  x = np.append(trainH1_arr[i].reshape(48,48,1), trainL1_arr[i].reshape(48,48,1), axis=2)\n",
        "  trainAll_arr = np.append(trainAll_arr, x.reshape(1,48,48,2), axis=0)"
      ],
      "execution_count": 42,
      "outputs": []
    },
    {
      "cell_type": "code",
      "metadata": {
        "colab": {
          "base_uri": "https://localhost:8080/"
        },
        "id": "D0VpPVW4_Q2A",
        "outputId": "05e4cae8-69be-420f-d34d-4744cfec932f"
      },
      "source": [
        "trainAll_arr.shape"
      ],
      "execution_count": 43,
      "outputs": [
        {
          "output_type": "execute_result",
          "data": {
            "text/plain": [
              "(1068, 48, 48, 2)"
            ]
          },
          "metadata": {},
          "execution_count": 43
        }
      ]
    },
    {
      "cell_type": "markdown",
      "metadata": {
        "id": "Olmc-QKH_eHg"
      },
      "source": [
        "### Test All"
      ]
    },
    {
      "cell_type": "code",
      "metadata": {
        "id": "g5oBXJEf_eHl"
      },
      "source": [
        "testAll_arr = np.empty((0,48,48,2), dtype=float)"
      ],
      "execution_count": 44,
      "outputs": []
    },
    {
      "cell_type": "code",
      "metadata": {
        "id": "ItKaV3R4_eHl"
      },
      "source": [
        "for i in range(len(testL1_arr)):\n",
        "  x = np.append(testH1_arr[i].reshape(48,48,1), testL1_arr[i].reshape(48,48,1), axis=2)\n",
        "  testAll_arr = np.append(testAll_arr, x.reshape(1,48,48,2), axis=0)"
      ],
      "execution_count": 45,
      "outputs": []
    },
    {
      "cell_type": "code",
      "metadata": {
        "colab": {
          "base_uri": "https://localhost:8080/"
        },
        "id": "0jAvz7Xs_eHm",
        "outputId": "bcf572a3-bc37-4b41-95b1-831cd0f232d3"
      },
      "source": [
        "testAll_arr.shape"
      ],
      "execution_count": 46,
      "outputs": [
        {
          "output_type": "execute_result",
          "data": {
            "text/plain": [
              "(349, 48, 48, 2)"
            ]
          },
          "metadata": {},
          "execution_count": 46
        }
      ]
    },
    {
      "cell_type": "markdown",
      "metadata": {
        "id": "GGXlsO69WxsC"
      },
      "source": [
        "###  Train Labels (y data)"
      ]
    },
    {
      "cell_type": "code",
      "metadata": {
        "id": "w3PiOWR03QQ_"
      },
      "source": [
        "trainy = df_train['GW injection']"
      ],
      "execution_count": 47,
      "outputs": []
    },
    {
      "cell_type": "code",
      "metadata": {
        "colab": {
          "base_uri": "https://localhost:8080/"
        },
        "id": "TKU79mk-fQ8_",
        "outputId": "92c24edf-ee28-4854-d525-5e19413a260e"
      },
      "source": [
        "len(trainy)"
      ],
      "execution_count": 48,
      "outputs": [
        {
          "output_type": "execute_result",
          "data": {
            "text/plain": [
              "1068"
            ]
          },
          "metadata": {},
          "execution_count": 48
        }
      ]
    },
    {
      "cell_type": "code",
      "metadata": {
        "colab": {
          "base_uri": "https://localhost:8080/"
        },
        "id": "5RHZoTm0XQr1",
        "outputId": "442aa1bd-1db6-4730-d2f5-acd16bc82695"
      },
      "source": [
        "trainy[10]"
      ],
      "execution_count": 49,
      "outputs": [
        {
          "output_type": "execute_result",
          "data": {
            "text/plain": [
              "1"
            ]
          },
          "metadata": {},
          "execution_count": 49
        }
      ]
    },
    {
      "cell_type": "code",
      "metadata": {
        "id": "gSnGDRgZW16z"
      },
      "source": [
        "train_labels = []"
      ],
      "execution_count": 50,
      "outputs": []
    },
    {
      "cell_type": "code",
      "metadata": {
        "id": "FJchaZKxXDic"
      },
      "source": [
        "for i in range(len(trainy)):\n",
        "  train_labels.append(trainy.iloc[i])\n",
        "train_labels = np.array(train_labels)"
      ],
      "execution_count": 51,
      "outputs": []
    },
    {
      "cell_type": "code",
      "metadata": {
        "colab": {
          "base_uri": "https://localhost:8080/"
        },
        "id": "iqSLjxqpXkEy",
        "outputId": "e13554d1-c6ce-436a-c9de-35e56c28bc02"
      },
      "source": [
        "train_labels.shape"
      ],
      "execution_count": 52,
      "outputs": [
        {
          "output_type": "execute_result",
          "data": {
            "text/plain": [
              "(1068,)"
            ]
          },
          "metadata": {},
          "execution_count": 52
        }
      ]
    },
    {
      "cell_type": "markdown",
      "metadata": {
        "id": "QDzdfkb8Xywp"
      },
      "source": [
        "###  Test Labels (y data)"
      ]
    },
    {
      "cell_type": "code",
      "metadata": {
        "id": "rScfAyat3bfe"
      },
      "source": [
        "testy = df_test['GW injection']"
      ],
      "execution_count": 53,
      "outputs": []
    },
    {
      "cell_type": "code",
      "metadata": {
        "colab": {
          "base_uri": "https://localhost:8080/"
        },
        "id": "XZ7_sTzdXyw5",
        "outputId": "66d7995c-9fbf-4f22-845a-488946f50ea3"
      },
      "source": [
        "testy.iloc[300]"
      ],
      "execution_count": 54,
      "outputs": [
        {
          "output_type": "execute_result",
          "data": {
            "text/plain": [
              "0"
            ]
          },
          "metadata": {},
          "execution_count": 54
        }
      ]
    },
    {
      "cell_type": "code",
      "metadata": {
        "id": "lK36-mrQXyw6"
      },
      "source": [
        "test_labels = []"
      ],
      "execution_count": 55,
      "outputs": []
    },
    {
      "cell_type": "code",
      "metadata": {
        "id": "TsrtC9AtXyw7"
      },
      "source": [
        "for i in range(len(testy)):\n",
        "  test_labels.append(testy.iloc[i])\n",
        "test_labels = np.array(test_labels)"
      ],
      "execution_count": 56,
      "outputs": []
    },
    {
      "cell_type": "code",
      "metadata": {
        "colab": {
          "base_uri": "https://localhost:8080/"
        },
        "id": "lbmaluTNXyw7",
        "outputId": "2055bd30-edf3-4a55-e20f-f31e1f095965"
      },
      "source": [
        "test_labels.shape"
      ],
      "execution_count": 57,
      "outputs": [
        {
          "output_type": "execute_result",
          "data": {
            "text/plain": [
              "(349,)"
            ]
          },
          "metadata": {},
          "execution_count": 57
        }
      ]
    },
    {
      "cell_type": "markdown",
      "metadata": {
        "id": "HnjJ4coXpgG1"
      },
      "source": [
        "## **CNN**"
      ]
    },
    {
      "cell_type": "markdown",
      "metadata": {
        "id": "CbEas8T-Yhx1"
      },
      "source": [
        "<div>\n",
        "<img src=\"https://drive.google.com/uc?id=1B8NoPWXWv5WwhLc59MYQ0z-MIBpF4eB3\" width=\"800\"/>\n",
        "</div>"
      ]
    },
    {
      "cell_type": "code",
      "metadata": {
        "id": "tuzBGvnG7oKu"
      },
      "source": [
        "\n",
        "class_names = ['Noise','GW']"
      ],
      "execution_count": 58,
      "outputs": []
    },
    {
      "cell_type": "markdown",
      "metadata": {
        "id": "WynEwVniLdpP"
      },
      "source": [
        "### 3-Stack CNN"
      ]
    },
    {
      "cell_type": "markdown",
      "metadata": {
        "id": "vjzvmvzxfN1M"
      },
      "source": [
        "#### H1"
      ]
    },
    {
      "cell_type": "code",
      "metadata": {
        "id": "NfrOWgPf2ybZ"
      },
      "source": [
        "modelLeNetH1 = keras.Sequential()\n",
        "modelLeNetH1.add(keras.layers.Conv2D(16, (3,3), padding = \"same\", \n",
        "                                   activation='relu', input_shape=(48, 48, 1)))\n",
        "modelLeNetH1.add(keras.layers.MaxPooling2D((2,2)))\n",
        "modelLeNetH1.add(keras.layers.Conv2D(32 , (3,3) , activation='relu')) \n",
        "modelLeNetH1.add(keras.layers.MaxPooling2D((2,2)))\n",
        "modelLeNetH1.add(keras.layers.Conv2D(64, (3,3) , activation='relu')) \n",
        "\n",
        "modelLeNetH1.add(keras.layers.Flatten())\n",
        "modelLeNetH1.add(keras.layers.Dense(64, activation='relu')) \n",
        "modelLeNetH1.add(keras.layers.Dense(2))"
      ],
      "execution_count": 59,
      "outputs": []
    },
    {
      "cell_type": "code",
      "metadata": {
        "colab": {
          "base_uri": "https://localhost:8080/"
        },
        "id": "qQjXBrZv2-QB",
        "outputId": "19a34628-c77a-435d-a5d2-5ece939363fa"
      },
      "source": [
        "modelLeNetH1.summary()"
      ],
      "execution_count": 60,
      "outputs": [
        {
          "output_type": "stream",
          "name": "stdout",
          "text": [
            "Model: \"sequential\"\n",
            "_________________________________________________________________\n",
            " Layer (type)                Output Shape              Param #   \n",
            "=================================================================\n",
            " conv2d (Conv2D)             (None, 48, 48, 16)        160       \n",
            "                                                                 \n",
            " max_pooling2d (MaxPooling2D  (None, 24, 24, 16)       0         \n",
            " )                                                               \n",
            "                                                                 \n",
            " conv2d_1 (Conv2D)           (None, 22, 22, 32)        4640      \n",
            "                                                                 \n",
            " max_pooling2d_1 (MaxPooling  (None, 11, 11, 32)       0         \n",
            " 2D)                                                             \n",
            "                                                                 \n",
            " conv2d_2 (Conv2D)           (None, 9, 9, 64)          18496     \n",
            "                                                                 \n",
            " flatten (Flatten)           (None, 5184)              0         \n",
            "                                                                 \n",
            " dense (Dense)               (None, 64)                331840    \n",
            "                                                                 \n",
            " dense_1 (Dense)             (None, 2)                 130       \n",
            "                                                                 \n",
            "=================================================================\n",
            "Total params: 355,266\n",
            "Trainable params: 355,266\n",
            "Non-trainable params: 0\n",
            "_________________________________________________________________\n"
          ]
        }
      ]
    },
    {
      "cell_type": "code",
      "metadata": {
        "colab": {
          "base_uri": "https://localhost:8080/"
        },
        "id": "lcnWcEqtMooi",
        "outputId": "53a33af8-1efc-48d5-9f9e-7859011efeeb"
      },
      "source": [
        "train_images = trainH1_arr.reshape(-1, 48, 48, 1)\n",
        "\n",
        "modelLeNetH1.compile(optimizer='adam',\n",
        "               loss=tf.keras.losses.SparseCategoricalCrossentropy(from_logits=True),\n",
        "               metrics=['accuracy'])\n",
        "\n",
        "history = modelLeNetH1.fit(train_images, train_labels, batch_size = 28, epochs = 15)"
      ],
      "execution_count": 61,
      "outputs": [
        {
          "output_type": "stream",
          "name": "stdout",
          "text": [
            "Epoch 1/15\n",
            "39/39 [==============================] - 12s 10ms/step - loss: 0.4990 - accuracy: 0.8801\n",
            "Epoch 2/15\n",
            "39/39 [==============================] - 0s 7ms/step - loss: 0.2450 - accuracy: 0.9260\n",
            "Epoch 3/15\n",
            "39/39 [==============================] - 0s 7ms/step - loss: 0.1881 - accuracy: 0.9316\n",
            "Epoch 4/15\n",
            "39/39 [==============================] - 0s 7ms/step - loss: 0.1491 - accuracy: 0.9485\n",
            "Epoch 5/15\n",
            "39/39 [==============================] - 0s 7ms/step - loss: 0.1044 - accuracy: 0.9691\n",
            "Epoch 6/15\n",
            "39/39 [==============================] - 0s 7ms/step - loss: 0.0814 - accuracy: 0.9766\n",
            "Epoch 7/15\n",
            "39/39 [==============================] - 0s 7ms/step - loss: 0.0679 - accuracy: 0.9775\n",
            "Epoch 8/15\n",
            "39/39 [==============================] - 0s 7ms/step - loss: 0.0531 - accuracy: 0.9813\n",
            "Epoch 9/15\n",
            "39/39 [==============================] - 0s 7ms/step - loss: 0.0343 - accuracy: 0.9916\n",
            "Epoch 10/15\n",
            "39/39 [==============================] - 0s 7ms/step - loss: 0.0259 - accuracy: 0.9944\n",
            "Epoch 11/15\n",
            "39/39 [==============================] - 0s 7ms/step - loss: 0.0155 - accuracy: 0.9963\n",
            "Epoch 12/15\n",
            "39/39 [==============================] - 0s 7ms/step - loss: 0.0089 - accuracy: 0.9981\n",
            "Epoch 13/15\n",
            "39/39 [==============================] - 0s 7ms/step - loss: 0.0046 - accuracy: 1.0000\n",
            "Epoch 14/15\n",
            "39/39 [==============================] - 0s 7ms/step - loss: 0.0030 - accuracy: 1.0000\n",
            "Epoch 15/15\n",
            "39/39 [==============================] - 0s 7ms/step - loss: 0.0023 - accuracy: 1.0000\n"
          ]
        }
      ]
    },
    {
      "cell_type": "code",
      "metadata": {
        "colab": {
          "base_uri": "https://localhost:8080/"
        },
        "id": "7U0ZLv-UlEVr",
        "outputId": "798b27af-581c-4560-a91e-a455333e169b"
      },
      "source": [
        "test_imagesH1 = testH1_arr.reshape(-1,48,48,1)\n",
        "test_loss, test_acc = modelLeNetH1.evaluate( test_imagesH1, test_labels )\n",
        "print('Accuracy ', test_acc)"
      ],
      "execution_count": 62,
      "outputs": [
        {
          "output_type": "stream",
          "name": "stdout",
          "text": [
            "11/11 [==============================] - 0s 9ms/step - loss: 0.2951 - accuracy: 0.9427\n",
            "Accuracy  0.9426934123039246\n"
          ]
        }
      ]
    },
    {
      "cell_type": "code",
      "metadata": {
        "colab": {
          "base_uri": "https://localhost:8080/"
        },
        "id": "3JWNlmSnbA_R",
        "outputId": "8254bfa7-6cdf-4bae-97d9-277f951afe1c"
      },
      "source": [
        "predictions = modelLeNetH1.predict(test_imagesH1)\n",
        "predictions.shape"
      ],
      "execution_count": 63,
      "outputs": [
        {
          "output_type": "execute_result",
          "data": {
            "text/plain": [
              "(349, 2)"
            ]
          },
          "metadata": {},
          "execution_count": 63
        }
      ]
    },
    {
      "cell_type": "code",
      "metadata": {
        "id": "36KcwUX8bf-n"
      },
      "source": [
        "predicted_label = np.zeros(len(predictions))\n",
        "\n",
        "for i in range(len(predictions)):\n",
        "    predicted_label[i] = int(np.argmax(predictions[i]))"
      ],
      "execution_count": 64,
      "outputs": []
    },
    {
      "cell_type": "markdown",
      "metadata": {
        "id": "3iZOLURlbotE"
      },
      "source": [
        "##### Confusion Matrix"
      ]
    },
    {
      "cell_type": "markdown",
      "metadata": {
        "id": "8gOYHikUU81O"
      },
      "source": [
        "Now we use the testing data results to create a confusion matrix"
      ]
    },
    {
      "cell_type": "code",
      "metadata": {
        "colab": {
          "base_uri": "https://localhost:8080/"
        },
        "id": "GR7XDBxGbLs5",
        "outputId": "fee33d5e-6fd0-421d-c48e-e32ae43409bd"
      },
      "source": [
        "predicted_label = predicted_label.astype(int)\n",
        "\n",
        "cnf_matrix = tf.math.confusion_matrix(\n",
        "    test_labels, predicted_label, num_classes=None, weights=None, dtype=tf.dtypes.int32,\n",
        "    name=None\n",
        ")\n",
        "print(cnf_matrix)"
      ],
      "execution_count": 65,
      "outputs": [
        {
          "output_type": "stream",
          "name": "stdout",
          "text": [
            "tf.Tensor(\n",
            "[[169   4]\n",
            " [ 16 160]], shape=(2, 2), dtype=int32)\n"
          ]
        }
      ]
    },
    {
      "cell_type": "code",
      "metadata": {
        "colab": {
          "base_uri": "https://localhost:8080/",
          "height": 328
        },
        "id": "OMGkhgOiboBM",
        "outputId": "8d769fe3-1c50-49ab-c369-e1439c64f69f"
      },
      "source": [
        "fig, ax = plt.subplots()\n",
        "tick_marks = np.arange(len(class_names))\n",
        "plt.xticks(tick_marks, class_names)\n",
        "plt.yticks(tick_marks, class_names)\n",
        "\n",
        "sns.heatmap(cnf_matrix*2/np.sum(cnf_matrix), annot = True, cmap = 'Blues_r', fmt='.2%')\n",
        "ax.xaxis.set_label_position('top')\n",
        "plt.tight_layout()\n",
        "plt.title('Confusion Matrix', y = 1.1)\n",
        "plt.ylabel('Actual label')\n",
        "plt.xlabel('Predicted label')\n",
        "plt.show()"
      ],
      "execution_count": 72,
      "outputs": [
        {
          "output_type": "display_data",
          "data": {
            "text/plain": [
              "<Figure size 432x288 with 2 Axes>"
            ],
            "image/png": "[encoded data removed]"
          },
          "metadata": {
            "needs_background": "light"
          }
        }
      ]
    },
    {
      "cell_type": "code",
      "metadata": {
        "colab": {
          "base_uri": "https://localhost:8080/"
        },
        "id": "JK4PnQnMbuHm",
        "outputId": "8524cfcf-fa3d-4465-a700-5139ab8b2d34"
      },
      "source": [
        "for i in range(len(class_names)):\n",
        "    print((i,class_names[i]))"
      ],
      "execution_count": 67,
      "outputs": [
        {
          "output_type": "stream",
          "name": "stdout",
          "text": [
            "(0, 'Noise')\n",
            "(1, 'GW')\n"
          ]
        }
      ]
    },
    {
      "cell_type": "markdown",
      "source": [
        "### ROC curve"
      ],
      "metadata": {
        "id": "_ED4Vx94W-8e"
      }
    },
    {
      "cell_type": "code",
      "source": [
        "probsH1 = modelLeNetH1.predict(test_imagesH1)\n",
        "\n",
        "# calculate the fpr and tpr for all thresholds of the classification\n",
        "  #H1\n",
        "predsH1 = probsH1[:,1]\n",
        "fprH1, tprH1, thresholdH1 = metrics.roc_curve(testy, predsH1)\n",
        "roc_aucH1 = metrics.auc(fprH1, tprH1)"
      ],
      "metadata": {
        "id": "G2Rebwv-XBTW"
      },
      "execution_count": 68,
      "outputs": []
    },
    {
      "cell_type": "code",
      "source": [
        "# method I: plt\n",
        "plt.title(f'ROC : Factor{factor:.2f}, Test {df_name}')\n",
        "plt.plot(fprH1, tprH1, 'g', label = 'AUC_H1 = %0.2f' % roc_aucH1)\n",
        "plt.legend(loc = 'lower right')\n",
        "plt.plot([0, 1], [0, 1],'r--')\n",
        "plt.xlim([0, 1])\n",
        "plt.ylim([0, 1])\n",
        "plt.ylabel('True Positive Rate')\n",
        "plt.xlabel('False Positive Rate')\n",
        "plt.show()"
      ],
      "metadata": {
        "colab": {
          "base_uri": "https://localhost:8080/",
          "height": 302
        },
        "id": "aRq1GMeLXZ36",
        "outputId": "ef381b9b-d97f-4776-cd42-532f0d13f400"
      },
      "execution_count": 71,
      "outputs": [
        {
          "output_type": "display_data",
          "data": {
            "text/plain": [
              "<Figure size 432x288 with 1 Axes>"
            ],
            "image/png": "[encoded data removed]"
          },
          "metadata": {
            "needs_background": "light"
          }
        }
      ]
    },
    {
      "cell_type": "markdown",
      "metadata": {
        "id": "XSfDLvnPfY4c"
      },
      "source": [
        "#### L1-Activity"
      ]
    },
    {
      "cell_type": "markdown",
      "metadata": {
        "id": "8hrk7vR4p4Sf"
      },
      "source": [
        "Now you can generate and train a CNN model, but this time using the data from detector L1. The code should be exactly the same as in the previous section, just make sure that you're calling the correct input data for each function."
      ]
    },
    {
      "cell_type": "code",
      "metadata": {
        "id": "VjUa3wLLfnsh"
      },
      "source": [
        "# Define the CNN model: \"modelLeNetL1\"\n"
      ],
      "execution_count": null,
      "outputs": []
    },
    {
      "cell_type": "code",
      "metadata": {
        "id": "9SKZyZPhfnsh"
      },
      "source": [
        "# Visualize the structure of the model\n",
        "#modelLeNetL1.summary()"
      ],
      "execution_count": null,
      "outputs": []
    },
    {
      "cell_type": "code",
      "metadata": {
        "id": "zNX0U6cofnsi"
      },
      "source": [
        "#Define train_images with trainL1_arr data:\n",
        "\n",
        "# Train the model:\n"
      ],
      "execution_count": null,
      "outputs": []
    },
    {
      "cell_type": "code",
      "metadata": {
        "id": "J0DbL1hSfnsi"
      },
      "source": [
        "# Define test_imagesL1 with testL1_arr data:\n"
      ],
      "execution_count": null,
      "outputs": []
    },
    {
      "cell_type": "code",
      "metadata": {
        "id": "dHOfuJq6fnsi"
      },
      "source": [
        "# Make predictions\n",
        "predictions = modelLeNetL1.predict(test_imagesL1)\n",
        "predictions.shape"
      ],
      "execution_count": null,
      "outputs": []
    },
    {
      "cell_type": "code",
      "metadata": {
        "id": "4lHK5rtyfnsj"
      },
      "source": [
        "predicted_label = np.zeros(len(predictions))\n",
        "\n",
        "for i in range(len(predictions)):\n",
        "    predicted_label[i] = int(np.argmax(predictions[i]))"
      ],
      "execution_count": null,
      "outputs": []
    },
    {
      "cell_type": "markdown",
      "metadata": {
        "id": "O4_7PoDafnsj"
      },
      "source": [
        "##### Matriz de Confusión"
      ]
    },
    {
      "cell_type": "markdown",
      "metadata": {
        "id": "cav0tDi5su30"
      },
      "source": [
        "To build the confusion matrix for L1 we can use the exact same code without having to make any changes."
      ]
    },
    {
      "cell_type": "code",
      "metadata": {
        "id": "gR4duISpfnsj"
      },
      "source": [
        "predicted_label = predicted_label.astype(int)\n",
        "\n",
        "cnf_matrix = tf.math.confusion_matrix(\n",
        "    test_labels, predicted_label, num_classes=None, weights=None, dtype=tf.dtypes.int32,\n",
        "    name=None\n",
        ")\n",
        "print(cnf_matrix)"
      ],
      "execution_count": null,
      "outputs": []
    },
    {
      "cell_type": "code",
      "metadata": {
        "id": "VK-YxKDDfnsj"
      },
      "source": [
        "fig, ax = plt.subplots()\n",
        "tick_marks = np.arange(len(class_names))\n",
        "plt.xticks(tick_marks, class_names)\n",
        "plt.yticks(tick_marks, class_names)\n",
        "\n",
        "sns.heatmap(cnf_matrix*2/np.sum(cnf_matrix), annot = True, cmap = 'Blues_r', fmt='.2%')\n",
        "ax.xaxis.set_label_position('top')\n",
        "plt.tight_layout()\n",
        "plt.title('Matriz de confusión', y = 1.1)\n",
        "plt.ylabel('Etiqueta actual')\n",
        "plt.xlabel('Etiqueta de predicción')\n",
        "plt.show()"
      ],
      "execution_count": null,
      "outputs": []
    },
    {
      "cell_type": "code",
      "metadata": {
        "id": "LaUZqkC1fnsj"
      },
      "source": [
        "for i in range(len(class_names)):\n",
        "    print((i,class_names[i]))"
      ],
      "execution_count": null,
      "outputs": []
    },
    {
      "cell_type": "markdown",
      "metadata": {
        "id": "LZvWXA3MfbuI"
      },
      "source": [
        "#### H1+L1"
      ]
    },
    {
      "cell_type": "markdown",
      "metadata": {
        "id": "RQOjXE-9tCqE"
      },
      "source": [
        "Finally, we can also create another CNN model that takes both the data from H1 and L1 at the same time. In this case, the input data will have dimensions (48,48,2) because now we have two images of 48X48 pixels stacked one on top of the other."
      ]
    },
    {
      "cell_type": "code",
      "metadata": {
        "id": "y7hMVa3MgiOS"
      },
      "source": [
        "modelLeNetAll = keras.Sequential()\n",
        "modelLeNetAll.add(keras.layers.Conv2D(16, (3,3), padding = \"same\",\n",
        "                                   activation='relu', input_shape=(48, 48, 2))) # input shape changes to (48,48,2)\n",
        "modelLeNetAll.add(keras.layers.MaxPooling2D((2,2)))\n",
        "modelLeNetAll.add(keras.layers.Conv2D(32 , (3,3) , activation='relu'))\n",
        "modelLeNetAll.add(keras.layers.MaxPooling2D((2,2)))\n",
        "modelLeNetAll.add(keras.layers.Conv2D(64, (3,3) , activation='relu')) \n",
        "\n",
        "modelLeNetAll.add(keras.layers.Flatten())\n",
        "modelLeNetAll.add(keras.layers.Dense(64, activation='relu')) \n",
        "modelLeNetAll.add(keras.layers.Dense(2))"
      ],
      "execution_count": null,
      "outputs": []
    },
    {
      "cell_type": "code",
      "metadata": {
        "id": "Z7DbL1_ogiOT"
      },
      "source": [
        "modelLeNetAll.summary()"
      ],
      "execution_count": null,
      "outputs": []
    },
    {
      "cell_type": "code",
      "metadata": {
        "id": "26So0abPgiOU"
      },
      "source": [
        "train_images = trainAll_arr.reshape(-1, 48, 48, 2) # shape changes to (48,48,2)\n",
        "\n",
        "modelLeNetAll.compile(optimizer='adam',\n",
        "               loss=tf.keras.losses.SparseCategoricalCrossentropy(from_logits=True),\n",
        "               metrics=['accuracy'])\n",
        "\n",
        "history = modelLeNetAll.fit(train_images, train_labels, batch_size = 28, epochs = 15)"
      ],
      "execution_count": null,
      "outputs": []
    },
    {
      "cell_type": "code",
      "metadata": {
        "id": "7WMxqgnEgiOU"
      },
      "source": [
        "test_imagesAll = testAll_arr.reshape(-1,48,48,2) # Shape changes to (48,48,2)\n",
        "test_loss, test_acc = modelLeNetAll.evaluate( test_imagesAll, test_labels )\n",
        "print('Accuracy ', test_acc)"
      ],
      "execution_count": null,
      "outputs": []
    },
    {
      "cell_type": "code",
      "metadata": {
        "id": "-WuWHywegiOV"
      },
      "source": [
        "predictions = modelLeNetAll.predict(test_imagesAll)\n",
        "predictions.shape"
      ],
      "execution_count": null,
      "outputs": []
    },
    {
      "cell_type": "code",
      "metadata": {
        "id": "M6wl5HlYgiOV"
      },
      "source": [
        "predicted_label = np.zeros(len(predictions))\n",
        "\n",
        "for i in range(len(predictions)):\n",
        "    predicted_label[i] = int(np.argmax(predictions[i]))"
      ],
      "execution_count": null,
      "outputs": []
    },
    {
      "cell_type": "markdown",
      "metadata": {
        "id": "uqcvrlf4giOV"
      },
      "source": [
        "##### Confusion Matrix"
      ]
    },
    {
      "cell_type": "code",
      "metadata": {
        "id": "s20cKjuigiOV"
      },
      "source": [
        "predicted_label = predicted_label.astype(int)\n",
        "\n",
        "cnf_matrix = tf.math.confusion_matrix(\n",
        "    test_labels, predicted_label, num_classes=None, weights=None, dtype=tf.dtypes.int32,\n",
        "    name=None\n",
        ")\n",
        "print(cnf_matrix)"
      ],
      "execution_count": null,
      "outputs": []
    },
    {
      "cell_type": "code",
      "metadata": {
        "id": "hFU_ouMIgiOW"
      },
      "source": [
        "fig, ax = plt.subplots()\n",
        "tick_marks = np.arange(len(class_names))\n",
        "plt.xticks(tick_marks, class_names)\n",
        "plt.yticks(tick_marks, class_names)\n",
        "\n",
        "sns.heatmap(cnf_matrix*2/np.sum(cnf_matrix), annot = True, cmap = 'Blues_r', fmt='.2%')\n",
        "ax.xaxis.set_label_position('top')\n",
        "plt.tight_layout()\n",
        "plt.title('Matriz de confusión', y = 1.1)\n",
        "plt.ylabel('Etiqueta actual')\n",
        "plt.xlabel('Etiqueta de predicción')\n",
        "plt.show()"
      ],
      "execution_count": null,
      "outputs": []
    },
    {
      "cell_type": "code",
      "metadata": {
        "id": "foHkdPxwgiOX"
      },
      "source": [
        "for i in range(len(class_names)):\n",
        "    print((i,class_names[i]))"
      ],
      "execution_count": null,
      "outputs": []
    }
  ]
}